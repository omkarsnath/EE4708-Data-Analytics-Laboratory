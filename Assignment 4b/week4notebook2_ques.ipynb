{
 "cells": [
  {
   "cell_type": "code",
   "execution_count": 1,
   "metadata": {},
   "outputs": [],
   "source": [
    "# ME17B158 - Omkar Nath"
   ]
  },
  {
   "cell_type": "markdown",
   "metadata": {},
   "source": [
    "# Real Data"
   ]
  },
  {
   "cell_type": "markdown",
   "metadata": {},
   "source": [
    "Load the Housing_Price.csv and see the feature_discription.txt for more insight (However you don't need to remove any unneccesary feature just use encoding to convert the categorical features)"
   ]
  },
  {
   "cell_type": "code",
   "execution_count": 2,
   "metadata": {},
   "outputs": [],
   "source": [
    "import pandas as pd\n",
    "import numpy as np\n",
    "import matplotlib.pyplot as plt\n",
    "import seaborn as sns\n",
    "from sklearn.linear_model import LinearRegression\n",
    "from sklearn.linear_model import Ridge, Lasso\n",
    "from sklearn.preprocessing import PolynomialFeatures\n",
    "from sklearn.metrics import mean_squared_error\n",
    "from sklearn.model_selection import train_test_split\n",
    "from sklearn.model_selection import cross_val_score\n",
    "import warnings\n",
    "warnings.filterwarnings(\"ignore\")"
   ]
  },
  {
   "cell_type": "code",
   "execution_count": 3,
   "metadata": {},
   "outputs": [],
   "source": [
    "# load data\n",
    "df = pd.read_csv(\"Housing_Price.csv\")"
   ]
  },
  {
   "cell_type": "markdown",
   "metadata": {},
   "source": [
    "which are categorical and which are numerical features?"
   ]
  },
  {
   "cell_type": "code",
   "execution_count": 4,
   "metadata": {},
   "outputs": [
    {
     "data": {
      "text/plain": [
       "Id                int64\n",
       "MSSubClass        int64\n",
       "LotArea           int64\n",
       "OverallQual       int64\n",
       "OverallCond       int64\n",
       "YearBuilt         int64\n",
       "YearRemodAdd      int64\n",
       "BsmtFinSF1        int64\n",
       "BsmtFinSF2        int64\n",
       "BsmtUnfSF         int64\n",
       "TotalBsmtSF       int64\n",
       "1stFlrSF          int64\n",
       "2ndFlrSF          int64\n",
       "LowQualFinSF      int64\n",
       "GrLivArea         int64\n",
       "BsmtFullBath      int64\n",
       "BsmtHalfBath      int64\n",
       "FullBath          int64\n",
       "HalfBath          int64\n",
       "BedroomAbvGr      int64\n",
       "KitchenAbvGr      int64\n",
       "TotRmsAbvGrd      int64\n",
       "Fireplaces        int64\n",
       "GarageCars        int64\n",
       "GarageArea        int64\n",
       "WoodDeckSF        int64\n",
       "OpenPorchSF       int64\n",
       "EnclosedPorch     int64\n",
       "3SsnPorch         int64\n",
       "ScreenPorch       int64\n",
       "PoolArea          int64\n",
       "MiscVal           int64\n",
       "MoSold            int64\n",
       "YrSold            int64\n",
       "SalePrice         int64\n",
       "Street           object\n",
       "Condition1       object\n",
       "Condition2       object\n",
       "CentralAir       object\n",
       "HeatingQC        object\n",
       "LotShape         object\n",
       "LandContour      object\n",
       "dtype: object"
      ]
     },
     "execution_count": 4,
     "metadata": {},
     "output_type": "execute_result"
    }
   ],
   "source": [
    "df.dtypes\n",
    "# Those with object data type are categorical, while the rest are numerical"
   ]
  },
  {
   "cell_type": "code",
   "execution_count": 5,
   "metadata": {},
   "outputs": [],
   "source": [
    "categorical_data = [label for label in df.columns if df.dtypes[label] == 'object']\n",
    "numerical_data = [label for label in df.columns if label not in categorical_data]"
   ]
  },
  {
   "cell_type": "code",
   "execution_count": 6,
   "metadata": {},
   "outputs": [
    {
     "name": "stdout",
     "output_type": "stream",
     "text": [
      "Categorical Columns are: ['Street', 'Condition1', 'Condition2', 'CentralAir', 'HeatingQC', 'LotShape', 'LandContour']\n",
      "Numerical Columns are: ['Id', 'MSSubClass', 'LotArea', 'OverallQual', 'OverallCond', 'YearBuilt', 'YearRemodAdd', 'BsmtFinSF1', 'BsmtFinSF2', 'BsmtUnfSF', 'TotalBsmtSF', '1stFlrSF', '2ndFlrSF', 'LowQualFinSF', 'GrLivArea', 'BsmtFullBath', 'BsmtHalfBath', 'FullBath', 'HalfBath', 'BedroomAbvGr', 'KitchenAbvGr', 'TotRmsAbvGrd', 'Fireplaces', 'GarageCars', 'GarageArea', 'WoodDeckSF', 'OpenPorchSF', 'EnclosedPorch', '3SsnPorch', 'ScreenPorch', 'PoolArea', 'MiscVal', 'MoSold', 'YrSold', 'SalePrice']\n"
     ]
    }
   ],
   "source": [
    "print(\"Categorical Columns are:\", categorical_data)\n",
    "print(\"Numerical Columns are:\", numerical_data)"
   ]
  },
  {
   "cell_type": "markdown",
   "metadata": {},
   "source": [
    "Write a function for doing one hot encoding for all categorical features\n",
    "\n",
    "Hint: Use pandas.get_dummies"
   ]
  },
  {
   "cell_type": "code",
   "execution_count": 7,
   "metadata": {
    "tags": []
   },
   "outputs": [],
   "source": [
    "def onehot_encoding(df,columns):\n",
    "    '''\n",
    "    Takes the dataframe \n",
    "    columns which are corresponding to categorical features\n",
    "    '''\n",
    "    return pd.get_dummies(df, columns=columns)"
   ]
  },
  {
   "cell_type": "code",
   "execution_count": 8,
   "metadata": {},
   "outputs": [],
   "source": [
    "df_encoded = onehot_encoding(df, categorical_data)"
   ]
  },
  {
   "cell_type": "markdown",
   "metadata": {},
   "source": [
    "Seperate the Label from the data, here it is 'SalePrice'"
   ]
  },
  {
   "cell_type": "code",
   "execution_count": 9,
   "metadata": {},
   "outputs": [],
   "source": [
    "# Write your code here\n",
    "X = df_encoded.drop(columns = [\"SalePrice\",\"Id\"])\n",
    "y = df_encoded[\"SalePrice\"]"
   ]
  },
  {
   "cell_type": "code",
   "execution_count": 10,
   "metadata": {},
   "outputs": [
    {
     "data": {
      "text/html": [
       "<div>\n",
       "<style scoped>\n",
       "    .dataframe tbody tr th:only-of-type {\n",
       "        vertical-align: middle;\n",
       "    }\n",
       "\n",
       "    .dataframe tbody tr th {\n",
       "        vertical-align: top;\n",
       "    }\n",
       "\n",
       "    .dataframe thead th {\n",
       "        text-align: right;\n",
       "    }\n",
       "</style>\n",
       "<table border=\"1\" class=\"dataframe\">\n",
       "  <thead>\n",
       "    <tr style=\"text-align: right;\">\n",
       "      <th></th>\n",
       "      <th>MSSubClass</th>\n",
       "      <th>LotArea</th>\n",
       "      <th>OverallQual</th>\n",
       "      <th>OverallCond</th>\n",
       "      <th>YearBuilt</th>\n",
       "      <th>YearRemodAdd</th>\n",
       "      <th>BsmtFinSF1</th>\n",
       "      <th>BsmtFinSF2</th>\n",
       "      <th>BsmtUnfSF</th>\n",
       "      <th>TotalBsmtSF</th>\n",
       "      <th>...</th>\n",
       "      <th>HeatingQC_Po</th>\n",
       "      <th>HeatingQC_TA</th>\n",
       "      <th>LotShape_IR1</th>\n",
       "      <th>LotShape_IR2</th>\n",
       "      <th>LotShape_IR3</th>\n",
       "      <th>LotShape_Reg</th>\n",
       "      <th>LandContour_Bnk</th>\n",
       "      <th>LandContour_HLS</th>\n",
       "      <th>LandContour_Low</th>\n",
       "      <th>LandContour_Lvl</th>\n",
       "    </tr>\n",
       "  </thead>\n",
       "  <tbody>\n",
       "    <tr>\n",
       "      <th>0</th>\n",
       "      <td>60</td>\n",
       "      <td>8450</td>\n",
       "      <td>7</td>\n",
       "      <td>5</td>\n",
       "      <td>2003</td>\n",
       "      <td>2003</td>\n",
       "      <td>706</td>\n",
       "      <td>0</td>\n",
       "      <td>150</td>\n",
       "      <td>856</td>\n",
       "      <td>...</td>\n",
       "      <td>0</td>\n",
       "      <td>0</td>\n",
       "      <td>0</td>\n",
       "      <td>0</td>\n",
       "      <td>0</td>\n",
       "      <td>1</td>\n",
       "      <td>0</td>\n",
       "      <td>0</td>\n",
       "      <td>0</td>\n",
       "      <td>1</td>\n",
       "    </tr>\n",
       "    <tr>\n",
       "      <th>1</th>\n",
       "      <td>20</td>\n",
       "      <td>9600</td>\n",
       "      <td>6</td>\n",
       "      <td>8</td>\n",
       "      <td>1976</td>\n",
       "      <td>1976</td>\n",
       "      <td>978</td>\n",
       "      <td>0</td>\n",
       "      <td>284</td>\n",
       "      <td>1262</td>\n",
       "      <td>...</td>\n",
       "      <td>0</td>\n",
       "      <td>0</td>\n",
       "      <td>0</td>\n",
       "      <td>0</td>\n",
       "      <td>0</td>\n",
       "      <td>1</td>\n",
       "      <td>0</td>\n",
       "      <td>0</td>\n",
       "      <td>0</td>\n",
       "      <td>1</td>\n",
       "    </tr>\n",
       "    <tr>\n",
       "      <th>2</th>\n",
       "      <td>60</td>\n",
       "      <td>11250</td>\n",
       "      <td>7</td>\n",
       "      <td>5</td>\n",
       "      <td>2001</td>\n",
       "      <td>2002</td>\n",
       "      <td>486</td>\n",
       "      <td>0</td>\n",
       "      <td>434</td>\n",
       "      <td>920</td>\n",
       "      <td>...</td>\n",
       "      <td>0</td>\n",
       "      <td>0</td>\n",
       "      <td>1</td>\n",
       "      <td>0</td>\n",
       "      <td>0</td>\n",
       "      <td>0</td>\n",
       "      <td>0</td>\n",
       "      <td>0</td>\n",
       "      <td>0</td>\n",
       "      <td>1</td>\n",
       "    </tr>\n",
       "    <tr>\n",
       "      <th>3</th>\n",
       "      <td>70</td>\n",
       "      <td>9550</td>\n",
       "      <td>7</td>\n",
       "      <td>5</td>\n",
       "      <td>1915</td>\n",
       "      <td>1970</td>\n",
       "      <td>216</td>\n",
       "      <td>0</td>\n",
       "      <td>540</td>\n",
       "      <td>756</td>\n",
       "      <td>...</td>\n",
       "      <td>0</td>\n",
       "      <td>0</td>\n",
       "      <td>1</td>\n",
       "      <td>0</td>\n",
       "      <td>0</td>\n",
       "      <td>0</td>\n",
       "      <td>0</td>\n",
       "      <td>0</td>\n",
       "      <td>0</td>\n",
       "      <td>1</td>\n",
       "    </tr>\n",
       "    <tr>\n",
       "      <th>4</th>\n",
       "      <td>60</td>\n",
       "      <td>14260</td>\n",
       "      <td>8</td>\n",
       "      <td>5</td>\n",
       "      <td>2000</td>\n",
       "      <td>2000</td>\n",
       "      <td>655</td>\n",
       "      <td>0</td>\n",
       "      <td>490</td>\n",
       "      <td>1145</td>\n",
       "      <td>...</td>\n",
       "      <td>0</td>\n",
       "      <td>0</td>\n",
       "      <td>1</td>\n",
       "      <td>0</td>\n",
       "      <td>0</td>\n",
       "      <td>0</td>\n",
       "      <td>0</td>\n",
       "      <td>0</td>\n",
       "      <td>0</td>\n",
       "      <td>1</td>\n",
       "    </tr>\n",
       "  </tbody>\n",
       "</table>\n",
       "<p>5 rows × 67 columns</p>\n",
       "</div>"
      ],
      "text/plain": [
       "   MSSubClass  LotArea  OverallQual  OverallCond  YearBuilt  YearRemodAdd  \\\n",
       "0          60     8450            7            5       2003          2003   \n",
       "1          20     9600            6            8       1976          1976   \n",
       "2          60    11250            7            5       2001          2002   \n",
       "3          70     9550            7            5       1915          1970   \n",
       "4          60    14260            8            5       2000          2000   \n",
       "\n",
       "   BsmtFinSF1  BsmtFinSF2  BsmtUnfSF  TotalBsmtSF  ...  HeatingQC_Po  \\\n",
       "0         706           0        150          856  ...             0   \n",
       "1         978           0        284         1262  ...             0   \n",
       "2         486           0        434          920  ...             0   \n",
       "3         216           0        540          756  ...             0   \n",
       "4         655           0        490         1145  ...             0   \n",
       "\n",
       "   HeatingQC_TA  LotShape_IR1  LotShape_IR2  LotShape_IR3  LotShape_Reg  \\\n",
       "0             0             0             0             0             1   \n",
       "1             0             0             0             0             1   \n",
       "2             0             1             0             0             0   \n",
       "3             0             1             0             0             0   \n",
       "4             0             1             0             0             0   \n",
       "\n",
       "   LandContour_Bnk  LandContour_HLS  LandContour_Low  LandContour_Lvl  \n",
       "0                0                0                0                1  \n",
       "1                0                0                0                1  \n",
       "2                0                0                0                1  \n",
       "3                0                0                0                1  \n",
       "4                0                0                0                1  \n",
       "\n",
       "[5 rows x 67 columns]"
      ]
     },
     "execution_count": 10,
     "metadata": {},
     "output_type": "execute_result"
    }
   ],
   "source": [
    "# Visualize the changed dataframe\n",
    "X.head()"
   ]
  },
  {
   "cell_type": "markdown",
   "metadata": {},
   "source": [
    "Split train test split with random state 42, test size 0.2\n",
    "\n",
    "You can use sklearn module for this exercise"
   ]
  },
  {
   "cell_type": "code",
   "execution_count": 11,
   "metadata": {},
   "outputs": [],
   "source": [
    "# Split data here \n",
    "X_train, X_test, y_train, y_test = train_test_split(X, y, random_state=42, test_size=0.2)"
   ]
  },
  {
   "cell_type": "markdown",
   "metadata": {},
   "source": [
    "## Lasso Regression"
   ]
  },
  {
   "cell_type": "markdown",
   "metadata": {},
   "source": [
    "1. search for alphas in range of 0.1 to 1000 for Lasso rigression, choose the best which minimizes the mse \n",
    "2. Plot the alphas vs MSE  \n",
    "\n",
    "Hint:   \n",
    "- cross validation score gives accuracy not the error convert to error appropriately (otherwise choose lambda which maximizes the score)\n",
    "\n",
    "\n",
    "In the following cell, use training which was split earlier to cross validate (using cross_val_score) use cv = 5 (5 folds), then calculate the mean of the cross validation score for each alphas and plot $\\lambda$ vs cross_valiadtion_score  or cross_validation_error. If you choose the accuracy then choose the $\\lambda$ which maximizes the cross_val_score. \n",
    "\n",
    "For range of alphas use  alphas = np.logspace(-1, 3, 100)\n",
    "\n",
    "Finally find the $\\lambda$ which maximizes the score (or minimizes the error) (appropriate value of $\\lambda$ is enough just by seeing the graph)"
   ]
  },
  {
   "cell_type": "code",
   "execution_count": 12,
   "metadata": {},
   "outputs": [],
   "source": [
    "# write your code here and plot lambda vs cross validation score\n",
    "alphas_lasso = np.logspace(-1, 3, 100)\n",
    "lasso_alpha = 0\n",
    "prev_score = -1\n",
    "scores_lasso = []\n",
    "\n",
    "for alpha in alphas_lasso:\n",
    "    regressor = Lasso(alpha=alpha)\n",
    "    current_score = np.mean(cross_val_score(regressor, X_train, y_train, cv=5))\n",
    "    scores_lasso.append(current_score)\n",
    "    \n",
    "    if current_score > prev_score:\n",
    "        lasso_alpha = alpha\n",
    "        \n",
    "    prev_score = current_score"
   ]
  },
  {
   "cell_type": "code",
   "execution_count": 13,
   "metadata": {},
   "outputs": [
    {
     "data": {
      "image/png": "[encoded data removed]",
      "text/plain": [
       "<Figure size 432x288 with 1 Axes>"
      ]
     },
     "metadata": {
      "needs_background": "light"
     },
     "output_type": "display_data"
    }
   ],
   "source": [
    "plt.plot(alphas_lasso, scores_lasso, color='blue')\n",
    "plt.title(\"Cross Validation score vs. lambda for Lasso regression\")\n",
    "plt.xlabel(\"Lambda\")\n",
    "plt.ylabel(\"Cross Validation Score\")\n",
    "plt.show()"
   ]
  },
  {
   "cell_type": "code",
   "execution_count": 14,
   "metadata": {},
   "outputs": [
    {
     "name": "stdout",
     "output_type": "stream",
     "text": [
      "Best lambda for Lasso Regression = 359.3813663804629\n"
     ]
    }
   ],
   "source": [
    "print(\"Best lambda for Lasso Regression =\", lasso_alpha)"
   ]
  },
  {
   "cell_type": "code",
   "execution_count": 15,
   "metadata": {},
   "outputs": [
    {
     "data": {
      "text/plain": [
       "Lasso(alpha=359.3813663804629, copy_X=True, fit_intercept=True, max_iter=1000,\n",
       "      normalize=False, positive=False, precompute=False, random_state=None,\n",
       "      selection='cyclic', tol=0.0001, warm_start=False)"
      ]
     },
     "execution_count": 15,
     "metadata": {},
     "output_type": "execute_result"
    }
   ],
   "source": [
    "lasso_regressor = Lasso(alpha=lasso_alpha)\n",
    "lasso_regressor.fit(X_train, y_train)"
   ]
  },
  {
   "cell_type": "markdown",
   "metadata": {},
   "source": [
    "## Ridge Regression"
   ]
  },
  {
   "cell_type": "markdown",
   "metadata": {},
   "source": [
    "1. search for alphas in range of 0.1 to 100 for Ridge rigression, choose the best which minimizes the mse \n",
    "2. Plot the alphas vs MSE\n",
    "\n",
    "\n",
    "This similar to as explained for Lasso regression. Again plot $\\lambda$ vs accuracy (or error) \n",
    "\n",
    "For range of alphas use  alphas = np.logspace(-1, 2, 100)\n",
    "\n",
    "Finally find the $\\lambda$ which maximizes the score (or minimizes the error) (appropriate value of $\\lambda$ is enough just by seeing the graph)\n"
   ]
  },
  {
   "cell_type": "code",
   "execution_count": 16,
   "metadata": {},
   "outputs": [],
   "source": [
    "# write your code here and plot lambda vs cross validation score\n",
    "ridge_alphas = np.logspace(-1, 2, 100)\n",
    "ridge_alpha = 0\n",
    "prev_score = -1\n",
    "ridge_scores = []\n",
    "\n",
    "for alpha in ridge_alphas:\n",
    "    regressor = Ridge(alpha=alpha)\n",
    "    current_score = np.mean(cross_val_score(regressor, X_train, y_train, cv=5))\n",
    "    ridge_scores.append(current_score)\n",
    "    \n",
    "    if current_score > prev_score:\n",
    "        ridge_alpha = alpha\n",
    "        \n",
    "    prev_score = current_score"
   ]
  },
  {
   "cell_type": "code",
   "execution_count": 17,
   "metadata": {},
   "outputs": [
    {
     "data": {
      "image/png": "[encoded data removed]",
      "text/plain": [
       "<Figure size 432x288 with 1 Axes>"
      ]
     },
     "metadata": {
      "needs_background": "light"
     },
     "output_type": "display_data"
    }
   ],
   "source": [
    "plt.plot(ridge_alphas, ridge_scores, color='blue')\n",
    "plt.title(\"Cross Validation score vs. lambda for Ridge regression\")\n",
    "plt.xlabel(\"Lambda\")\n",
    "plt.ylabel(\"Cross Validation Score\")\n",
    "plt.show()"
   ]
  },
  {
   "cell_type": "code",
   "execution_count": 18,
   "metadata": {},
   "outputs": [
    {
     "name": "stdout",
     "output_type": "stream",
     "text": [
      "Best lambda for Ridge Regression = 37.64935806792467\n"
     ]
    }
   ],
   "source": [
    "print(\"Best lambda for Ridge Regression =\", ridge_alpha)"
   ]
  },
  {
   "cell_type": "code",
   "execution_count": 19,
   "metadata": {},
   "outputs": [
    {
     "data": {
      "text/plain": [
       "Ridge(alpha=37.64935806792467, copy_X=True, fit_intercept=True, max_iter=None,\n",
       "      normalize=False, random_state=None, solver='auto', tol=0.001)"
      ]
     },
     "execution_count": 19,
     "metadata": {},
     "output_type": "execute_result"
    }
   ],
   "source": [
    "ridge_regressor = Ridge(alpha=ridge_alpha)\n",
    "ridge_regressor.fit(X_train, y_train)"
   ]
  },
  {
   "cell_type": "markdown",
   "metadata": {},
   "source": [
    "Now compare regularized models to linear Regression model\n",
    "\n",
    "In the following cell, calculate cross validation score using Linear Regression model"
   ]
  },
  {
   "cell_type": "code",
   "execution_count": 20,
   "metadata": {
    "tags": []
   },
   "outputs": [
    {
     "name": "stdout",
     "output_type": "stream",
     "text": [
      "Cross Validation score for Simple Linear Regression = 0.7319127091470573\n",
      "Mean Square Error = 1046696125.710393\n"
     ]
    }
   ],
   "source": [
    "# write your code here print cross validation score\n",
    "lin_reggressor = LinearRegression()\n",
    "lin_score = np.mean(cross_val_score(lin_reggressor, X_train, y_train, cv=5))\n",
    "\n",
    "lin_reggressor.fit(X_train, y_train)\n",
    "y_train_pred = lin_reggressor.predict(X_train)\n",
    "linear_mse = mean_squared_error(y_train, y_train_pred)\n",
    "\n",
    "print(\"Cross Validation score for Simple Linear Regression =\", lin_score)\n",
    "print(\"Mean Square Error =\",linear_mse)"
   ]
  },
  {
   "cell_type": "markdown",
   "metadata": {},
   "source": [
    "Now you have $\\lambda$ values for both ridge and lasso regression, predict the model on the test data you created earlier\n",
    "\n",
    "In the following cell use selected $\\lambda$ as the model parameter, predict on test data, compare among three models and report your findings. \n",
    "\n",
    "\n",
    "\n",
    "\n",
    "Finally use lasso regression to find the important features and write your observations and also what do you observe when you compare both coefficients of Ridge and Lasso ? Do you see any property of Lasso which is used?\n",
    " \n",
    "Hint: \n",
    "- Check weights corresponding to each features\n",
    "\n",
    "\n",
    "Note:\n",
    "- Don't worry if you have huge error in prediction, it is possible, just compare among models and report which has lease error.\n"
   ]
  },
  {
   "cell_type": "code",
   "execution_count": 21,
   "metadata": {
    "tags": []
   },
   "outputs": [
    {
     "data": {
      "image/png": "[encoded data removed]",
      "text/plain": [
       "<Figure size 432x288 with 1 Axes>"
      ]
     },
     "metadata": {
      "needs_background": "light"
     },
     "output_type": "display_data"
    }
   ],
   "source": [
    "# predict on test data which you  splitted earlier, print coefficients of the learned model, Mean square error. Report the model which gives the least MSE. Also commenton important features\n",
    "lasso_test_pred = lasso_regressor.predict(X_test)\n",
    "lasso_test_mse = mean_squared_error(y_test, lasso_test_pred)\n",
    "\n",
    "ridge_test_pred = ridge_regressor.predict(X_test)\n",
    "ridge_test_mse = mean_squared_error(y_test, ridge_test_pred)\n",
    "\n",
    "linear_test_pred = lin_reggressor.predict(X_test)\n",
    "linear_test_mse = mean_squared_error(y_test, linear_test_pred)\n",
    "\n",
    "plt.bar(x=[\"Lasso\", \"Ridge\", \"Linear\"], height=[lasso_test_mse, ridge_test_mse, linear_test_mse], color='green')\n",
    "plt.ylim([1.2e9, 1.5e9])\n",
    "plt.title(\"Test MSE for all models\")\n",
    "plt.show()"
   ]
  },
  {
   "cell_type": "code",
   "execution_count": 22,
   "metadata": {},
   "outputs": [
    {
     "name": "stdout",
     "output_type": "stream",
     "text": [
      "Test MSE for Linear is  1380512172.4161482  Ridge is  1360214643.7518344  and Lasso is  1379208206.3329391\n"
     ]
    }
   ],
   "source": [
    "print(\"Test MSE for Linear is \",linear_test_mse,\" Ridge is \",ridge_test_mse,\" and Lasso is \",lasso_test_mse)"
   ]
  },
  {
   "cell_type": "code",
   "execution_count": 23,
   "metadata": {},
   "outputs": [],
   "source": [
    "# Order of performance, based on increasing order of MSE is:\n",
    "# Ridge > Lasso > Linear"
   ]
  },
  {
   "cell_type": "code",
   "execution_count": 24,
   "metadata": {},
   "outputs": [
    {
     "name": "stdout",
     "output_type": "stream",
     "text": [
      "           Linear         Ridge         Lasso\n",
      "0     -174.568153   -176.219642   -183.777177\n",
      "1        0.462216      0.360275      0.395699\n",
      "2    17594.616989  17540.037180  18500.951101\n",
      "3     4491.264941   4233.372718   3432.178831\n",
      "4      335.758423    328.783030    314.327053\n",
      "5      138.787487    158.241795    173.956347\n",
      "6       12.382085     11.249902     14.548230\n",
      "7       -3.618867     -3.552983      0.000000\n",
      "8       -1.353687     -1.039077      2.233262\n",
      "9        7.409531      6.657842      1.700208\n",
      "10      14.871679     13.598776     43.534317\n",
      "11      11.655132     11.959053     41.946652\n",
      "12       8.863129      8.272128     37.097535\n",
      "13      35.389940     33.829957      5.611505\n",
      "14    8704.702431   8326.367252   7877.489419\n",
      "15   -3598.431914  -1654.508545     -0.000000\n",
      "16    1755.390348   1885.151340      0.000000\n",
      "17     252.320829    -32.848715     -0.000000\n",
      "18   -8304.254354  -7349.848074  -6816.675271\n",
      "19  -11119.994853  -4725.450018     -0.000000\n",
      "20    5005.944750   4543.960677   3809.730262\n",
      "21    3906.861937   4623.492820   3759.239103\n",
      "22    8409.794684   8092.348151   7937.630221\n",
      "23       8.961866     11.222400     11.420706\n",
      "24      20.718350     25.654866     27.232678\n",
      "25      -4.758060     -2.637462      0.322330\n",
      "26      12.363338     12.462311     11.021751\n",
      "27      22.239134     36.532220     38.947306\n",
      "28      56.981872     62.336512     64.523821\n",
      "29     -25.270300    -30.908412    -32.571229\n",
      "..            ...           ...           ...\n",
      "37   10323.752176   9977.827481  11896.447704\n",
      "38  -12386.211148  -1436.091095     -0.000000\n",
      "39    3356.702494  -3497.969261     -0.000000\n",
      "40  -14313.995696  -2855.678069     -0.000000\n",
      "41    2544.567267    209.836803      0.000000\n",
      "42    3524.529773     72.023244      0.000000\n",
      "43   11654.376238    741.132286      0.000000\n",
      "44   54058.518746   1700.382739      0.000000\n",
      "45    2940.194852   -118.259280     -0.000000\n",
      "46   14728.236834   4231.846726      0.000000\n",
      "47   47840.743408    938.211403      0.000000\n",
      "48 -126933.263910  -6258.107918     -0.000000\n",
      "49   -7611.253969   -437.993032     -0.000000\n",
      "50   17326.669157      5.706656     -0.000000\n",
      "51   -2349.845117    -61.787294     -0.000000\n",
      "52    5088.691019   2794.218433      0.000000\n",
      "53   -5088.691019  -2794.218433     -0.000000\n",
      "54    4328.384709   4303.467840   5186.673498\n",
      "55    -873.584827    599.261710      0.000000\n",
      "56   -3758.924524  -2752.014846     -0.000000\n",
      "57    2676.827463   -106.206427      0.000000\n",
      "58   -2372.702821  -2044.508276     -0.000000\n",
      "59   13493.102267   2174.316922     70.461655\n",
      "60   23998.011968   7069.774987   1592.067099\n",
      "61  -49755.568817  -9232.992080     -0.000000\n",
      "62   12264.454583    -11.099830   -669.162537\n",
      "63  -17206.451336  -9453.112293  -5108.288645\n",
      "64   21025.928494  10615.756911  13070.399598\n",
      "65    2252.554344   1980.275460      0.000000\n",
      "66   -6072.031502  -3142.920079     -0.000000\n",
      "\n",
      "[67 rows x 3 columns]\n"
     ]
    }
   ],
   "source": [
    "# Coefficients\n",
    "coefficients = {\"Linear\": lin_reggressor.coef_, \"Ridge\": ridge_regressor.coef_, \"Lasso\": lasso_regressor.coef_}\n",
    "df_coefficients = pd.DataFrame(coefficients)\n",
    "print(df_coefficients)\n",
    "# It is seen that coefficients for Ridge and Lasso are lower"
   ]
  },
  {
   "cell_type": "code",
   "execution_count": 25,
   "metadata": {},
   "outputs": [
    {
     "name": "stdout",
     "output_type": "stream",
     "text": [
      "['MSSubClass', 'LotArea', 'OverallQual', 'OverallCond', 'YearBuilt', 'YearRemodAdd', 'BsmtFinSF1', 'BsmtUnfSF', 'TotalBsmtSF', '1stFlrSF', '2ndFlrSF', 'LowQualFinSF', 'GrLivArea', 'BsmtFullBath', 'BedroomAbvGr', 'TotRmsAbvGrd', 'Fireplaces', 'GarageCars', 'GarageArea', 'WoodDeckSF', 'OpenPorchSF', 'EnclosedPorch', '3SsnPorch', 'ScreenPorch', 'PoolArea', 'MiscVal', 'MoSold', 'YrSold', 'Condition1_Norm', 'HeatingQC_Ex', 'LotShape_IR1', 'LotShape_IR2', 'LotShape_Reg', 'LandContour_Bnk', 'LandContour_HLS']\n"
     ]
    }
   ],
   "source": [
    "# Important features in Lasso Regularization\n",
    "lasso_imp_features = [feature for i, feature in enumerate(X.columns) if lasso_regressor.coef_[i]!=0]\n",
    "print(lasso_imp_features)\n",
    "# non-important features have coeff 0"
   ]
  }
 ],
 "metadata": {
  "kernelspec": {
   "display_name": "Python 3",
   "language": "python",
   "name": "python3"
  },
  "language_info": {
   "codemirror_mode": {
    "name": "ipython",
    "version": 3
   },
   "file_extension": ".py",
   "mimetype": "text/x-python",
   "name": "python",
   "nbconvert_exporter": "python",
   "pygments_lexer": "ipython3",
   "version": "3.7.3"
  }
 },
 "nbformat": 4,
 "nbformat_minor": 2
}
