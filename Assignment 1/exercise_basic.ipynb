{
 "cells": [
  {
   "cell_type": "code",
   "execution_count": null,
   "metadata": {},
   "outputs": [],
   "source": [
    "#Submission for ME17B158 - Omkar Nath"
   ]
  },
  {
   "cell_type": "markdown",
   "metadata": {},
   "source": [
    "1) Given the array split the array at the middle (if it is odd length consider next higher integer), add reverse the array.\n",
    "\n",
    "Ex:\n",
    "if input is [12,10,5,6,52,36] \n",
    "output should be [6,52,36,12,10,5]\n",
    "\n",
    "if input is  [12,10,5,6,52,36,34]\n",
    "output should be [6,52,36,34,12,10,5]"
   ]
  },
  {
   "cell_type": "code",
   "execution_count": 1,
   "metadata": {},
   "outputs": [],
   "source": [
    "import math\n",
    "# Complete this function to get the desired result\n",
    "def reverseatCenter(arr):\n",
    "    arr2=[]\n",
    "    \n",
    "    i=math.floor(len(arr)/2)\n",
    "    while(i<len(arr)):\n",
    "        arr2.append(arr[i])\n",
    "        i+=1\n",
    "        \n",
    "    i=0\n",
    "    while(i<math.floor(len(arr)/2)):\n",
    "        arr2.append(arr[i])\n",
    "        i+=1\n",
    "        \n",
    "    return arr2"
   ]
  },
  {
   "cell_type": "code",
   "execution_count": 2,
   "metadata": {},
   "outputs": [
    {
     "name": "stdout",
     "output_type": "stream",
     "text": [
      "[1]\n",
      "[2, 1]\n",
      "[2, 3, 1]\n",
      "[5, 6, 7, 8, 1, 2, 3, 4]\n",
      "[5, 6, 7, 8, 9, 1, 2, 3, 4]\n",
      "[]\n",
      "[6, 52, 36, 12, 10, 5]\n",
      "[6, 52, 36, 34, 12, 10, 5]\n"
     ]
    }
   ],
   "source": [
    "# Print wroking examples\n",
    "print(reverseatCenter([1]))\n",
    "print(reverseatCenter([1,2]))\n",
    "print(reverseatCenter([1,2,3]))\n",
    "print(reverseatCenter([1,2,3,4,5,6,7,8]))\n",
    "print(reverseatCenter([1,2,3,4,5,6,7,8,9]))\n",
    "print(reverseatCenter([]))\n",
    "print(reverseatCenter([12,10,5,6,52,36]))\n",
    "print(reverseatCenter([12,10,5,6,52,36,34]))"
   ]
  },
  {
   "cell_type": "markdown",
   "metadata": {},
   "source": [
    "2) Given a list of numbers, return a list where all adjacent duplicate elements have been removed.\n",
    "\n",
    "Ex:\n",
    "\n",
    "2, 2, 2, 3, 2 returns 2, 3, 2."
   ]
  },
  {
   "cell_type": "code",
   "execution_count": 3,
   "metadata": {},
   "outputs": [],
   "source": [
    "# Complete the function to get the desired result\n",
    "import numpy as np\n",
    "def remove_adjacent(b):\n",
    "    b2=[]\n",
    "    i=1\n",
    "    \n",
    "    while(i<len(b)):\n",
    "        if(b[i]!=b[i-1]):\n",
    "            b2.append(b[i])\n",
    "        i+=1\n",
    "    \n",
    "    return np.append(b[0],b2[:])"
   ]
  },
  {
   "cell_type": "code",
   "execution_count": 4,
   "metadata": {},
   "outputs": [
    {
     "name": "stdout",
     "output_type": "stream",
     "text": [
      "[2 3 2]\n",
      "[1 2 3]\n",
      "[1 2]\n",
      "[1 2 3 4 5]\n",
      "[1 2 1 2 1]\n"
     ]
    }
   ],
   "source": [
    "# Print working examples\n",
    "print(remove_adjacent([2,2,2,3,2]))\n",
    "print(remove_adjacent([1,1,2,3,3]))\n",
    "print(remove_adjacent([1,1,1,1,2]))\n",
    "print(remove_adjacent([1,2,3,4,5]))\n",
    "print(remove_adjacent([1,2,1,2,1,1]))"
   ]
  },
  {
   "cell_type": "markdown",
   "metadata": {},
   "source": [
    "3) given matrix of 7x7 full of ones, create a square with given side length (center same as original square(7x7)) replace ones with zeors at the edges for example,\n",
    "\n"
   ]
  },
  {
   "cell_type": "markdown",
   "metadata": {},
   "source": [
    "$$\n",
    "\\begin{align}\n",
    "A = \\begin{bmatrix}\n",
    "1 & 1 & 1 & 1 & 1 & 1 & 1\\\\\n",
    "1 & 1 & 1 & 1 & 1 & 1 & 1\\\\\n",
    "1 & 1 & 1 & 1 & 1 & 1 & 1\\\\\n",
    "1 & 1 & 1 & 1 & 1 & 1 & 1\\\\\n",
    "1 & 1 & 1 & 1 & 1 & 1 & 1\\\\\n",
    "1 & 1 & 1 & 1 & 1 & 1 & 1\\\\\n",
    "1 & 1 & 1 & 1 & 1 & 1 & 1\\\\\n",
    "\\end{bmatrix}\n",
    "\\end{align}\n",
    "$$\n",
    "After modification\n",
    "$$\n",
    "\\begin{align}\n",
    "A = \\begin{bmatrix}\n",
    "1 & 1 & 1 & 1 & 1 & 1 & 1\\\\\n",
    "1 & 1 & 1 & 1 & 1 & 1 & 1\\\\\n",
    "1 & 1 & 0 & 0 & 0 & 1 & 1\\\\\n",
    "1 & 1 & 0 & 1 & 0 & 1 & 1\\\\\n",
    "1 & 1 & 0 & 0 & 0 & 1 & 1\\\\\n",
    "1 & 1 & 1 & 1 & 1 & 1 & 1\\\\\n",
    "1 & 1 & 1 & 1 & 1 & 1 & 1\\\\\n",
    "\\end{bmatrix}\n",
    "\\end{align}\n",
    "$$"
   ]
  },
  {
   "cell_type": "code",
   "execution_count": 5,
   "metadata": {},
   "outputs": [],
   "source": [
    "import numpy as np\n",
    "# write programm to get the desired result\n",
    "def one_square(n):\n",
    "    if(n>7 or n%2==0):\n",
    "        return(\"Error\")\n",
    "    \n",
    "    else:\n",
    "        A = np.array([[1 for j in range(1,8)] for i in range(1,8)])\n",
    "        \n",
    "        a = math.floor((7-n)/2)\n",
    "        b = math.floor((7+n)/2)\n",
    "        for i in range(a,b):\n",
    "            for j in range(a,b):\n",
    "                A[i][j]=0\n",
    "        \n",
    "        if(n>1):\n",
    "            a+=1\n",
    "            b-=1\n",
    "            for i in range(a,b):\n",
    "                for j in range(a,b):\n",
    "                    A[i][j]=1\n",
    "                    \n",
    "        return A"
   ]
  },
  {
   "cell_type": "code",
   "execution_count": 6,
   "metadata": {},
   "outputs": [
    {
     "name": "stdout",
     "output_type": "stream",
     "text": [
      "[[1 1 1 1 1 1 1]\n",
      " [1 1 1 1 1 1 1]\n",
      " [1 1 1 1 1 1 1]\n",
      " [1 1 1 0 1 1 1]\n",
      " [1 1 1 1 1 1 1]\n",
      " [1 1 1 1 1 1 1]\n",
      " [1 1 1 1 1 1 1]]\n",
      "[[1 1 1 1 1 1 1]\n",
      " [1 1 1 1 1 1 1]\n",
      " [1 1 0 0 0 1 1]\n",
      " [1 1 0 1 0 1 1]\n",
      " [1 1 0 0 0 1 1]\n",
      " [1 1 1 1 1 1 1]\n",
      " [1 1 1 1 1 1 1]]\n",
      "[[1 1 1 1 1 1 1]\n",
      " [1 0 0 0 0 0 1]\n",
      " [1 0 1 1 1 0 1]\n",
      " [1 0 1 1 1 0 1]\n",
      " [1 0 1 1 1 0 1]\n",
      " [1 0 0 0 0 0 1]\n",
      " [1 1 1 1 1 1 1]]\n",
      "[[0 0 0 0 0 0 0]\n",
      " [0 1 1 1 1 1 0]\n",
      " [0 1 1 1 1 1 0]\n",
      " [0 1 1 1 1 1 0]\n",
      " [0 1 1 1 1 1 0]\n",
      " [0 1 1 1 1 1 0]\n",
      " [0 0 0 0 0 0 0]]\n",
      "Error\n",
      "Error\n"
     ]
    }
   ],
   "source": [
    "#Print working examples\n",
    "print(one_square(1))\n",
    "print(one_square(3))\n",
    "print(one_square(5))\n",
    "print(one_square(7))\n",
    "print(one_square(4))\n",
    "print(one_square(9))"
   ]
  },
  {
   "cell_type": "markdown",
   "metadata": {},
   "source": [
    "4) Paragraph present in data.txt is encoded such that each alphabet in word is incremented to next ascii value. Decode the paragraph present in the data_encoded.txt (Hint: decrease the ascii value of each character in the word)\n"
   ]
  },
  {
   "cell_type": "code",
   "execution_count": 7,
   "metadata": {},
   "outputs": [],
   "source": [
    "def sentence_decode(code):\n",
    "    # write the code here\n",
    "    dec_words = \"\"\n",
    "    \n",
    "    for i in range(len(code)):\n",
    "        n = ord(code[i])\n",
    "        n = ((n-1),255)[n==0]\n",
    "        dec_words += chr(n)\n",
    "    \n",
    "    return dec_words"
   ]
  },
  {
   "cell_type": "code",
   "execution_count": 8,
   "metadata": {
    "tags": []
   },
   "outputs": [
    {
     "name": "stdout",
     "output_type": "stream",
     "text": [
      "ebub bobmztjt jt b qspdftt pg jotqfdujoh- dmfbotjoh- usbotgpsnjoh boe npefmjoh ebub xjui uif hpbm pg ejtdpwfsjoh vtfgvm jogpsnbujpo- jogpsnjoh dpodmvtjpot boe tvqqpsujoh efdjtjpo.nbljoh/ ebub bobmztjt ibt nvmujqmf gbdfut boe bqqspbdift- fodpnqbttjoh ejwfstf ufdiojrvft voefs b wbsjfuz pg obnft- boe jt vtfe jo ejggfsfou cvtjoftt- tdjfodf- boe tpdjbm tdjfodf epnbjot/ jo upebz(t cvtjoftt xpsme- ebub bobmztjt qmbzt b spmf jo nbljoh efdjtjpot npsf tdjfoujgjd boe ifmqjoh cvtjofttft pqfsbuf npsf fggfdujwfmz/\n",
      " \n",
      "data\u001fanalysis\u001fis\u001fa\u001fprocess\u001fof\u001finspecting,\u001fcleansing,\u001ftransforming\u001fand\u001fmodeling\u001fdata\u001fwith\u001fthe\u001fgoal\u001fof\u001fdiscovering\u001fuseful\u001finformation,\u001finforming\u001fconclusions\u001fand\u001fsupporting\u001fdecision-making.\u001fdata\u001fanalysis\u001fhas\u001fmultiple\u001ffacets\u001fand\u001fapproaches,\u001fencompassing\u001fdiverse\u001ftechniques\u001funder\u001fa\u001fvariety\u001fof\u001fnames,\u001fand\u001fis\u001fused\u001fin\u001fdifferent\u001fbusiness,\u001fscience,\u001fand\u001fsocial\u001fscience\u001fdomains.\u001fin\u001ftoday's\u001fbusiness\u001fworld,\u001fdata\u001fanalysis\u001fplays\u001fa\u001frole\u001fin\u001fmaking\u001fdecisions\u001fmore\u001fscientific\u001fand\u001fhelping\u001fbusinesses\u001foperate\u001fmore\u001feffectively.\n"
     ]
    }
   ],
   "source": [
    "with open (\"data_encoded.txt\", \"r\") as myfile:\n",
    "    data=myfile.read()\n",
    "    print(data)\n",
    "    print(\" \")\n",
    "    print(sentence_decode(data))"
   ]
  },
  {
   "cell_type": "code",
   "execution_count": 9,
   "metadata": {},
   "outputs": [],
   "source": [
    "# Has to print the decoded paragraph."
   ]
  }
 ],
 "metadata": {
  "kernelspec": {
   "display_name": "Python 3",
   "language": "python",
   "name": "python3"
  },
  "language_info": {
   "codemirror_mode": {
    "name": "ipython",
    "version": 3
   },
   "file_extension": ".py",
   "mimetype": "text/x-python",
   "name": "python",
   "nbconvert_exporter": "python",
   "pygments_lexer": "ipython3",
   "version": "3.7.4"
  }
 },
 "nbformat": 4,
 "nbformat_minor": 2
}
