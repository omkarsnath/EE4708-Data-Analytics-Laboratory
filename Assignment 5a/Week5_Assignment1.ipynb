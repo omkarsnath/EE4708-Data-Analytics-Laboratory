{
 "cells": [
  {
   "cell_type": "code",
   "execution_count": 1,
   "metadata": {},
   "outputs": [],
   "source": [
    "# ME17B158 - Omkar Nath"
   ]
  },
  {
   "cell_type": "markdown",
   "metadata": {},
   "source": [
    "#  Classification : Nearest Neighbors and Naive Bayes "
   ]
  },
  {
   "cell_type": "markdown",
   "metadata": {},
   "source": [
    "## Classification using Nearest Neighbors"
   ]
  },
  {
   "cell_type": "markdown",
   "metadata": {},
   "source": [
    "(a) Perform k-Nearest neighbours on the given dataset($X_{knn}$ and $y_{knn}$: where $X_{knn}$ stores feature vectors representing the movies and  $y_{knn}$ stores the 0-1 labelling for each movie) for binary classification of movies, for classifiying whether a given movie is a comedy(label 1) or not a comedy(label 0) . Split the dataset into train(80%), validation(10%) and test sets(10%).Run k-Nearest neighbours for different k values (1,3,7,15,31,63). Select the k, using validation set, which returns the best accuracy score. \n",
    "\n",
    "(i)  Report all the validation accuracies for all the values of k. \n",
    "<br>(ii) Report accuracy score by performing k-NN on the test dataset using the best chosen k value. "
   ]
  },
  {
   "cell_type": "code",
   "execution_count": 2,
   "metadata": {},
   "outputs": [],
   "source": [
    "# Importing Libraries\n",
    "import pandas as pd\n",
    "import numpy as np\n",
    "import matplotlib.pyplot as plt\n",
    "\n",
    "from sklearn.model_selection import train_test_split\n",
    "from sklearn.metrics import accuracy_score\n",
    "from sklearn.neighbors import KNeighborsClassifier"
   ]
  },
  {
   "cell_type": "code",
   "execution_count": 3,
   "metadata": {},
   "outputs": [],
   "source": [
    "X_df = pd.read_csv(\"X_knn.csv\", sep = ' ', header=None)\n",
    "y_df = pd.read_csv(\"y_knn.csv\", header=None)"
   ]
  },
  {
   "cell_type": "code",
   "execution_count": 4,
   "metadata": {},
   "outputs": [
    {
     "data": {
      "text/html": [
       "<div>\n",
       "<style scoped>\n",
       "    .dataframe tbody tr th:only-of-type {\n",
       "        vertical-align: middle;\n",
       "    }\n",
       "\n",
       "    .dataframe tbody tr th {\n",
       "        vertical-align: top;\n",
       "    }\n",
       "\n",
       "    .dataframe thead th {\n",
       "        text-align: right;\n",
       "    }\n",
       "</style>\n",
       "<table border=\"1\" class=\"dataframe\">\n",
       "  <thead>\n",
       "    <tr style=\"text-align: right;\">\n",
       "      <th></th>\n",
       "      <th>0</th>\n",
       "      <th>1</th>\n",
       "      <th>2</th>\n",
       "      <th>3</th>\n",
       "      <th>4</th>\n",
       "      <th>5</th>\n",
       "      <th>6</th>\n",
       "      <th>7</th>\n",
       "      <th>8</th>\n",
       "      <th>9</th>\n",
       "      <th>...</th>\n",
       "      <th>1118</th>\n",
       "      <th>1119</th>\n",
       "      <th>1120</th>\n",
       "      <th>1121</th>\n",
       "      <th>1122</th>\n",
       "      <th>1123</th>\n",
       "      <th>1124</th>\n",
       "      <th>1125</th>\n",
       "      <th>1126</th>\n",
       "      <th>1127</th>\n",
       "    </tr>\n",
       "  </thead>\n",
       "  <tbody>\n",
       "    <tr>\n",
       "      <th>0</th>\n",
       "      <td>0.02500</td>\n",
       "      <td>0.02500</td>\n",
       "      <td>0.05775</td>\n",
       "      <td>0.09675</td>\n",
       "      <td>0.14675</td>\n",
       "      <td>0.21700</td>\n",
       "      <td>0.06700</td>\n",
       "      <td>0.26275</td>\n",
       "      <td>0.26200</td>\n",
       "      <td>0.03200</td>\n",
       "      <td>...</td>\n",
       "      <td>0.03950</td>\n",
       "      <td>0.01800</td>\n",
       "      <td>0.04575</td>\n",
       "      <td>0.03275</td>\n",
       "      <td>0.12500</td>\n",
       "      <td>0.04150</td>\n",
       "      <td>0.01925</td>\n",
       "      <td>0.03625</td>\n",
       "      <td>0.07775</td>\n",
       "      <td>0.02300</td>\n",
       "    </tr>\n",
       "    <tr>\n",
       "      <th>1</th>\n",
       "      <td>0.03975</td>\n",
       "      <td>0.04375</td>\n",
       "      <td>0.03775</td>\n",
       "      <td>0.04800</td>\n",
       "      <td>0.11025</td>\n",
       "      <td>0.07250</td>\n",
       "      <td>0.04775</td>\n",
       "      <td>0.10975</td>\n",
       "      <td>0.09925</td>\n",
       "      <td>0.02050</td>\n",
       "      <td>...</td>\n",
       "      <td>0.04175</td>\n",
       "      <td>0.01925</td>\n",
       "      <td>0.01725</td>\n",
       "      <td>0.02425</td>\n",
       "      <td>0.12550</td>\n",
       "      <td>0.02250</td>\n",
       "      <td>0.01550</td>\n",
       "      <td>0.01475</td>\n",
       "      <td>0.09025</td>\n",
       "      <td>0.01875</td>\n",
       "    </tr>\n",
       "    <tr>\n",
       "      <th>2</th>\n",
       "      <td>0.04350</td>\n",
       "      <td>0.05475</td>\n",
       "      <td>0.02800</td>\n",
       "      <td>0.07700</td>\n",
       "      <td>0.05400</td>\n",
       "      <td>0.06850</td>\n",
       "      <td>0.05600</td>\n",
       "      <td>0.18500</td>\n",
       "      <td>0.04925</td>\n",
       "      <td>0.02675</td>\n",
       "      <td>...</td>\n",
       "      <td>0.04150</td>\n",
       "      <td>0.02675</td>\n",
       "      <td>0.02775</td>\n",
       "      <td>0.03425</td>\n",
       "      <td>0.15550</td>\n",
       "      <td>0.03675</td>\n",
       "      <td>0.01700</td>\n",
       "      <td>0.01950</td>\n",
       "      <td>0.09700</td>\n",
       "      <td>0.01850</td>\n",
       "    </tr>\n",
       "    <tr>\n",
       "      <th>3</th>\n",
       "      <td>0.03725</td>\n",
       "      <td>0.03950</td>\n",
       "      <td>0.03675</td>\n",
       "      <td>0.03100</td>\n",
       "      <td>0.06825</td>\n",
       "      <td>0.04050</td>\n",
       "      <td>0.02325</td>\n",
       "      <td>0.08700</td>\n",
       "      <td>0.05125</td>\n",
       "      <td>0.03025</td>\n",
       "      <td>...</td>\n",
       "      <td>0.05750</td>\n",
       "      <td>0.03375</td>\n",
       "      <td>0.02275</td>\n",
       "      <td>0.03975</td>\n",
       "      <td>0.18525</td>\n",
       "      <td>0.05925</td>\n",
       "      <td>0.01500</td>\n",
       "      <td>0.01525</td>\n",
       "      <td>0.06450</td>\n",
       "      <td>0.01300</td>\n",
       "    </tr>\n",
       "    <tr>\n",
       "      <th>4</th>\n",
       "      <td>0.04200</td>\n",
       "      <td>0.05275</td>\n",
       "      <td>0.05925</td>\n",
       "      <td>0.03675</td>\n",
       "      <td>0.07525</td>\n",
       "      <td>0.12525</td>\n",
       "      <td>0.02850</td>\n",
       "      <td>0.08500</td>\n",
       "      <td>0.02950</td>\n",
       "      <td>0.02875</td>\n",
       "      <td>...</td>\n",
       "      <td>0.04250</td>\n",
       "      <td>0.02825</td>\n",
       "      <td>0.02150</td>\n",
       "      <td>0.02600</td>\n",
       "      <td>0.14275</td>\n",
       "      <td>0.02075</td>\n",
       "      <td>0.01650</td>\n",
       "      <td>0.01675</td>\n",
       "      <td>0.10750</td>\n",
       "      <td>0.01825</td>\n",
       "    </tr>\n",
       "  </tbody>\n",
       "</table>\n",
       "<p>5 rows × 1128 columns</p>\n",
       "</div>"
      ],
      "text/plain": [
       "      0        1        2        3        4        5        6        7     \\\n",
       "0  0.02500  0.02500  0.05775  0.09675  0.14675  0.21700  0.06700  0.26275   \n",
       "1  0.03975  0.04375  0.03775  0.04800  0.11025  0.07250  0.04775  0.10975   \n",
       "2  0.04350  0.05475  0.02800  0.07700  0.05400  0.06850  0.05600  0.18500   \n",
       "3  0.03725  0.03950  0.03675  0.03100  0.06825  0.04050  0.02325  0.08700   \n",
       "4  0.04200  0.05275  0.05925  0.03675  0.07525  0.12525  0.02850  0.08500   \n",
       "\n",
       "      8        9     ...     1118     1119     1120     1121     1122  \\\n",
       "0  0.26200  0.03200  ...  0.03950  0.01800  0.04575  0.03275  0.12500   \n",
       "1  0.09925  0.02050  ...  0.04175  0.01925  0.01725  0.02425  0.12550   \n",
       "2  0.04925  0.02675  ...  0.04150  0.02675  0.02775  0.03425  0.15550   \n",
       "3  0.05125  0.03025  ...  0.05750  0.03375  0.02275  0.03975  0.18525   \n",
       "4  0.02950  0.02875  ...  0.04250  0.02825  0.02150  0.02600  0.14275   \n",
       "\n",
       "      1123     1124     1125     1126     1127  \n",
       "0  0.04150  0.01925  0.03625  0.07775  0.02300  \n",
       "1  0.02250  0.01550  0.01475  0.09025  0.01875  \n",
       "2  0.03675  0.01700  0.01950  0.09700  0.01850  \n",
       "3  0.05925  0.01500  0.01525  0.06450  0.01300  \n",
       "4  0.02075  0.01650  0.01675  0.10750  0.01825  \n",
       "\n",
       "[5 rows x 1128 columns]"
      ]
     },
     "execution_count": 4,
     "metadata": {},
     "output_type": "execute_result"
    }
   ],
   "source": [
    "X_df.head()"
   ]
  },
  {
   "cell_type": "code",
   "execution_count": 5,
   "metadata": {},
   "outputs": [
    {
     "data": {
      "text/html": [
       "<div>\n",
       "<style scoped>\n",
       "    .dataframe tbody tr th:only-of-type {\n",
       "        vertical-align: middle;\n",
       "    }\n",
       "\n",
       "    .dataframe tbody tr th {\n",
       "        vertical-align: top;\n",
       "    }\n",
       "\n",
       "    .dataframe thead th {\n",
       "        text-align: right;\n",
       "    }\n",
       "</style>\n",
       "<table border=\"1\" class=\"dataframe\">\n",
       "  <thead>\n",
       "    <tr style=\"text-align: right;\">\n",
       "      <th></th>\n",
       "      <th>0</th>\n",
       "    </tr>\n",
       "  </thead>\n",
       "  <tbody>\n",
       "    <tr>\n",
       "      <th>0</th>\n",
       "      <td>1.0</td>\n",
       "    </tr>\n",
       "    <tr>\n",
       "      <th>1</th>\n",
       "      <td>0.0</td>\n",
       "    </tr>\n",
       "    <tr>\n",
       "      <th>2</th>\n",
       "      <td>1.0</td>\n",
       "    </tr>\n",
       "    <tr>\n",
       "      <th>3</th>\n",
       "      <td>1.0</td>\n",
       "    </tr>\n",
       "    <tr>\n",
       "      <th>4</th>\n",
       "      <td>1.0</td>\n",
       "    </tr>\n",
       "  </tbody>\n",
       "</table>\n",
       "</div>"
      ],
      "text/plain": [
       "     0\n",
       "0  1.0\n",
       "1  0.0\n",
       "2  1.0\n",
       "3  1.0\n",
       "4  1.0"
      ]
     },
     "execution_count": 5,
     "metadata": {},
     "output_type": "execute_result"
    }
   ],
   "source": [
    "y_df.head()"
   ]
  },
  {
   "cell_type": "code",
   "execution_count": 6,
   "metadata": {},
   "outputs": [],
   "source": [
    "X = np.array(X_df)\n",
    "y = np.array(y_df)[:,0]"
   ]
  },
  {
   "cell_type": "code",
   "execution_count": 7,
   "metadata": {},
   "outputs": [],
   "source": [
    "# Splitting the Data\n",
    "X_train, X_val, X_test = np.split(X, [int(.8 * len(X)), int(.9 * len(X))])\n",
    "y_train, y_val, y_test = np.split(y, [int(.8 * len(y)), int(.9 * len(y))])"
   ]
  },
  {
   "cell_type": "code",
   "execution_count": 8,
   "metadata": {},
   "outputs": [],
   "source": [
    "k_vals = [1,3,7,15,31,63]\n",
    "val_acc = []\n",
    "\n",
    "for k in k_vals:\n",
    "    classifier = KNeighborsClassifier(n_neighbors=k)\n",
    "    classifier.fit(X_train, y_train)\n",
    "    y_val_pred = classifier.predict(X_val)\n",
    "    val_acc.append(accuracy_score(y_val, y_val_pred))"
   ]
  },
  {
   "cell_type": "code",
   "execution_count": 9,
   "metadata": {},
   "outputs": [
    {
     "data": {
      "image/png": "[encoded data removed]",
      "text/plain": [
       "<Figure size 432x288 with 1 Axes>"
      ]
     },
     "metadata": {
      "needs_background": "light"
     },
     "output_type": "display_data"
    }
   ],
   "source": [
    "plt.plot(k_vals, val_acc, 'bo-')\n",
    "plt.xticks(k_vals)\n",
    "plt.title(\"Validation Accuracy Score vs k\")\n",
    "plt.xlabel(\"k\")\n",
    "plt.ylabel(\"Accuracy %\")\n",
    "plt.show()"
   ]
  },
  {
   "cell_type": "code",
   "execution_count": 10,
   "metadata": {},
   "outputs": [
    {
     "name": "stdout",
     "output_type": "stream",
     "text": [
      "    k  Validation Accuracy\n",
      "0   1                0.836\n",
      "1   3                0.863\n",
      "2   7                0.862\n",
      "3  15                0.867\n",
      "4  31                0.864\n",
      "5  63                0.860\n"
     ]
    }
   ],
   "source": [
    "# Score for different values k\n",
    "k_acc = {\"k\": k_vals, \"Validation Accuracy\": val_acc}\n",
    "print(pd.DataFrame(k_acc))"
   ]
  },
  {
   "cell_type": "code",
   "execution_count": 11,
   "metadata": {},
   "outputs": [
    {
     "name": "stdout",
     "output_type": "stream",
     "text": [
      "The k with the best acc of  0.867  is  15\n"
     ]
    }
   ],
   "source": [
    "best_k = k_vals[val_acc.index(max(val_acc))]\n",
    "best_acc = max(val_acc)\n",
    "print(\"The k with the best acc of \",best_acc,\" is \",best_k)"
   ]
  },
  {
   "cell_type": "code",
   "execution_count": 12,
   "metadata": {},
   "outputs": [
    {
     "name": "stdout",
     "output_type": "stream",
     "text": [
      "Test accuracy = 86.7%\n"
     ]
    }
   ],
   "source": [
    "# Using the best k value\n",
    "classifier = KNeighborsClassifier(n_neighbors=best_k)\n",
    "classifier.fit(X_train, y_train)\n",
    "y_test_pred = classifier.predict(X_test)\n",
    "accuracy = accuracy_score(y_test, y_test_pred)\n",
    "\n",
    "print(\"Test accuracy = {}%\".format(accuracy*100))"
   ]
  },
  {
   "cell_type": "markdown",
   "metadata": {},
   "source": [
    "Write the results here:\n",
    "k=15 is the best as it gives the highest accuracy"
   ]
  },
  {
   "cell_type": "markdown",
   "metadata": {},
   "source": [
    "(b) State why using an even value of k in k-NN should not be chosen"
   ]
  },
  {
   "cell_type": "markdown",
   "metadata": {},
   "source": [
    "With even k, it is possible for a perfect split i.e. half belonging to one class and half belonging to another. To avoid this, we always prefer odd k."
   ]
  },
  {
   "cell_type": "markdown",
   "metadata": {},
   "source": [
    "## Learning Naive Bayes' classifier  "
   ]
  },
  {
   "cell_type": "markdown",
   "metadata": {},
   "source": [
    "### From Continuous Distribution of data"
   ]
  },
  {
   "cell_type": "markdown",
   "metadata": {},
   "source": [
    "Here, the distribution of the data( $X$ represents the datapoints and $Y$ represents the 0-1 binary-class label; where 0 being the negative class and 1 being the positive class) is already known.\n",
    "<br>Consider the following one-dimensional(1-D) Gaussian distributions where means and variances are unknown. You need to estimate means($\\mu_-$: for negative class and  $\\mu_+$: for positive class) and variances ($\\sigma^{2}_{-}$: for negative class and $\\sigma^{2}_+$: for positive class) from the given data : \n",
    "<br> (1) Assume $X|Y_{Y=0} \\sim \\mathcal{N}(\\mu_- , \\sigma^{2}_-)$ \n",
    "<br>(2) Assume $X|Y_{Y=1} \\sim \\mathcal{N}(\\mu_+ , \\sigma^{2}_+)$\n"
   ]
  },
  {
   "cell_type": "markdown",
   "metadata": {},
   "source": [
    "*Generating artificial datasets in the next cell *"
   ]
  },
  {
   "cell_type": "code",
   "execution_count": 13,
   "metadata": {},
   "outputs": [],
   "source": [
    "## This cell is for generating datasets. Students should not change anything in this cell. \n",
    "## You can compare your mean and variance estimates by the actual ones used to generate these datasets\n",
    "\n",
    "X_pos = np.random.randn(1000,1)+np.array([[2.]])\n",
    "X_neg = np.random.randn(1000,1)+np.array([[4.]])\n",
    "X_train_pos = X_pos[:900]\n",
    "X_train_neg = X_neg[:900]\n",
    "X_test_pos = X_pos[900:]\n",
    "X_test_neg = X_neg[900:]\n",
    "X_train = np.concatenate((X_train_pos, X_train_neg), axis=0)\n",
    "X_test = np.concatenate((X_test_pos, X_test_neg), axis=0)\n",
    "Y_train = np.concatenate(( np.ones(900),np.zeros(900) ))\n",
    "Y_test = np.concatenate(( np.ones(100), np.zeros(100) ))\n",
    "\n",
    "## X_train, X_test, Y_train, Y_test are your datasets to work with ####"
   ]
  },
  {
   "cell_type": "markdown",
   "metadata": {},
   "source": [
    "\n",
    "\n",
    "<br>**Instructions to follow for learning a Baeysian classifier:** *(Code the formulae for estimating the different parameters yourself)*\n",
    "<br> a)Utilize the training dataset to estimate the means($\\hat{\\mu_+}$,$\\hat{\\mu_-}$) and variances($\\hat{\\sigma^{2}_+}$, $\\hat{\\sigma^{2}_-}$) for both positive and negative classes  \n",
    "b)Estimate the prior probability: $P(Y=1)$  ⟶ which could be referred to as: $\\hat{a}$ \n",
    "<br>c)Estimate the classifier funtion/posterior probability:  $P(Y=1|X = x)$  ⟶ which could be referred to as $\\hat{\\eta(x)}$\n",
    "<br>d)Find out the threshold value($x^*$) for classification by equating the estimated classifier function($\\hat{\\eta(x)}$)  with threshold probability of 0.5\n",
    "<br>e)Classify the test dataset into the two classes using this threshold value($x^*$) and find out the **accuracy** of the prediction \n",
    "\n",
    "Return back:  $\\hat{\\mu_+}$, $\\hat{\\mu_-}$, $\\hat{\\sigma^{2}_+}$, $\\hat{\\sigma^{2}_-}$, $\\hat{a}$, $x^*$ and accuracy from the code written \n",
    "\n",
    "*Hint: $X|Y_{Y=0} \\sim \\mathcal{N}(\\mu_- , \\sigma^{2}_-)$ implies $P_{X|Y=0} = \\mathcal{N}(\\mu_- , \\sigma^{2}_-) $*\n"
   ]
  },
  {
   "cell_type": "code",
   "execution_count": 14,
   "metadata": {},
   "outputs": [],
   "source": [
    "# Class Wise examples\n",
    "n1 = sum(Y_train==np.ones(len(Y_train)))\n",
    "n0 = len(Y_train) - n1"
   ]
  },
  {
   "cell_type": "code",
   "execution_count": 15,
   "metadata": {},
   "outputs": [
    {
     "name": "stdout",
     "output_type": "stream",
     "text": [
      "Estimated mean of positive class:  1.9795075854876019\n",
      "Estimated mean of negative class:  4.072973982524726\n"
     ]
    }
   ],
   "source": [
    "# Estimating Means\n",
    "sum1 = sum([x[0] for i,x in enumerate(X_train) if Y_train[i]==1])\n",
    "mean1 = float(sum1)/n1\n",
    "\n",
    "sum0 = sum([x[0] for i,x in enumerate(X_train) if Y_train[i]==0])\n",
    "mean0 = float(sum0)/n0\n",
    "\n",
    "print(\"Estimated mean of positive class: \", mean1)\n",
    "print(\"Estimated mean of negative class: \", mean0)"
   ]
  },
  {
   "cell_type": "code",
   "execution_count": 16,
   "metadata": {},
   "outputs": [
    {
     "name": "stdout",
     "output_type": "stream",
     "text": [
      "Estimated variance of positive class:  1.005749756360587\n",
      "Estimated variance of negative class:  0.9424458215491619\n"
     ]
    }
   ],
   "source": [
    "# Estimating Variances\n",
    "sum1 = sum([(x[0]-mean1)**2 for i,x in enumerate(X_train) if Y_train[i]==1])\n",
    "var1 = float(sum1)/(n1-1)\n",
    "\n",
    "sum0 = sum([(x[0]-mean0)**2 for i,x in enumerate(X_train) if Y_train[i]==0])\n",
    "var0 = float(sum0)/(n0-1)\n",
    "\n",
    "print(\"Estimated variance of positive class: \", var1)\n",
    "print(\"Estimated variance of negative class: \", var0)"
   ]
  },
  {
   "cell_type": "code",
   "execution_count": 17,
   "metadata": {},
   "outputs": [
    {
     "name": "stdout",
     "output_type": "stream",
     "text": [
      "Prior probability of the positive class: 0.5\n",
      "Prior probability of the negative class: 0.5\n"
     ]
    }
   ],
   "source": [
    "# Estimating Prior Probabilities\n",
    "pr_pro1 = n1/len(Y_train)\n",
    "pr_pro0 = n0/len(Y_train)\n",
    "print(\"Prior probability of the positive class:\", pr_pro1)\n",
    "print(\"Prior probability of the negative class:\", pr_pro0)"
   ]
  },
  {
   "cell_type": "code",
   "execution_count": 18,
   "metadata": {},
   "outputs": [],
   "source": [
    "# Gaussian Function\n",
    "def Gaussian(x, mu, var):\n",
    "    return (1/np.sqrt(2*np.pi*var))*np.exp(-1*((x-mu)**2)/(2*var))"
   ]
  },
  {
   "cell_type": "code",
   "execution_count": 19,
   "metadata": {},
   "outputs": [
    {
     "name": "stdout",
     "output_type": "stream",
     "text": [
      "Threshold value =  3.027288564985662\n"
     ]
    }
   ],
   "source": [
    "# Threshold Value\n",
    "x_vals = np.linspace(mean1, mean0, 1000)\n",
    "differences = [None]*1000\n",
    "\n",
    "for i, x in enumerate(x_vals):\n",
    "    prob = (pr_pro1*Gaussian(x, mean1, var1))/(pr_pro1*Gaussian(x, mean1, var1)+pr_pro0*Gaussian(x, mean0, var0))\n",
    "    differences[i] = abs(0.5 - prob)\n",
    "    \n",
    "thresh = x_vals[differences.index(min(differences))]\n",
    "print(\"Threshold value = \", thresh)"
   ]
  },
  {
   "cell_type": "code",
   "execution_count": 20,
   "metadata": {},
   "outputs": [
    {
     "name": "stdout",
     "output_type": "stream",
     "text": [
      "Training accuracy = 85.27777777777777 %\n",
      "Test accuracy = 85.5 %\n"
     ]
    }
   ],
   "source": [
    "# Data Classification\n",
    "train_pred = X_train <= thresh\n",
    "train_result = train_pred[:, 0]==Y_train\n",
    "train_acc = np.mean(train_result)\n",
    "print(\"Training accuracy = {} %\".format(train_acc*100))\n",
    "\n",
    "test_pred = X_test <= thresh\n",
    "test_result = test_pred[:, 0]==Y_test\n",
    "test_acc = np.mean(test_result)\n",
    "print(\"Test accuracy = {} %\".format(test_acc*100))"
   ]
  },
  {
   "cell_type": "markdown",
   "metadata": {},
   "source": [
    "Write results here:\n",
    "\n",
    "* Estimated mean of positive class:  2.0005368139717863\n",
    "* Estimated mean of negative class:  4.0440233172920985\n",
    "\n",
    "* Estimated variance of positive class:  1.0025901106283377\n",
    "* Estimated variance of negative class:  1.0181743144310418\n",
    "\n",
    "* Threshold value =  3.0212572996142644\n",
    "\n",
    "* Training accuracy = 84.55555555555556 %\n",
    "* Test accuracy = 83.5 %"
   ]
  },
  {
   "cell_type": "markdown",
   "metadata": {},
   "source": [
    "### From Discrete distribution of data"
   ]
  },
  {
   "cell_type": "markdown",
   "metadata": {},
   "source": [
    "Unlike the first exercise for learning the Naive Bayes' classifier where we dealt with continuous distribution of data, here you need to work with discrete data, which means finding Probability Mass Distribution(PMF). \n",
    "\n",
    "Age  | Income | Status  | Buy\n",
    "-----|--------|-------- |----\n",
    "<=20 |  low   | students| yes\n",
    "<=20 |  high  | students| yes\n",
    "<=20 | medium | students| no\n",
    "<=20 | medium | married | no\n",
    "<=20 |  high  | married | yes\n",
    "21-30|  low   | married | yes\n",
    "21-30|  low   | married | no \n",
    "21-30| medium | students| no\n",
    "21-30|  high  | students| yes\n",
    " >30 |  high  | married | no\n",
    " >30 |  high  | married | yes\n",
    " >30 | medium | married | yes\n",
    " >30 | medium | married | no\n",
    " >30 | medium | students| no\n",
    " \n",
    "Consider the train dataset above. Take any random datapoint ($X_{i}$) where $X_{i} = (X_{i,1} = Age,X_{i,2} = Income,X_{i,3} = Status)$ and its corresponding label \n",
    "\n",
    "($Y_{i} = Buy$). A \"yes\" in Buy corresponds to label-1 and a \"no\" in Buy corresponds to label-0.\n",
    "\n",
    "<br>**Instructions to follow for learning a Baeysian classifier:** *(Code the formulae for estimating the different parameters yourself)*\n",
    "<br> a)Estimate the prior probability: $P(Y=1)$  ⟶ which could be referred to as: $\\hat{a}$   \n",
    "b)Estimate the likelihood for each feature:  $P(X_{i,j} = x |Y = y_{i})$, where $ i$=datapoint counter, $j \\in \\{1,2,3\\}$ and $y_{i} \\in \\{0,1\\}$ \n",
    "<br>c)Estimate the total likelihood: $P(X_{i} = x |Y = y_{i})$  \n",
    "d)Calculate the posterior probability: $P(Y = 1|X_{i} = x_{test} )$ = $p_{test}$ where $x_{test} = (Age = 21-30, Income= medium, Status = married)$\n",
    "\n",
    "\n",
    "Return back: $\\hat{a}$, total likelihood and $p_{test}$ \n"
   ]
  },
  {
   "cell_type": "code",
   "execution_count": 21,
   "metadata": {},
   "outputs": [],
   "source": [
    "discrete_data = \"\"\"\n",
    "Age  | Income | Status  | Buy\n",
    "-----|--------|-------- |----\n",
    "<=20 |  low   | students| yes\n",
    "<=20 |  high  | students| yes\n",
    "<=20 | medium | students| no\n",
    "<=20 | medium | married | no\n",
    "<=20 |  high  | married | yes\n",
    "21-30|  low   | married | yes\n",
    "21-30|  low   | married | no \n",
    "21-30| medium | students| no\n",
    "21-30|  high  | students| yes\n",
    " >30 |  high  | married | no\n",
    " >30 |  high  | married | yes\n",
    " >30 | medium | married | yes\n",
    " >30 | medium | married | no\n",
    " >30 | medium | students| no\"\"\""
   ]
  },
  {
   "cell_type": "code",
   "execution_count": 22,
   "metadata": {},
   "outputs": [],
   "source": [
    "discrete_data = discrete_data.split(\"\\n\")[1:]\n",
    "\n",
    "age = []\n",
    "income = []\n",
    "status = []\n",
    "buy = []\n",
    "\n",
    "for i in range(2, len(discrete_data)):\n",
    "    p, q, r, s = [line.strip() for line in discrete_data[i].split(\"|\")]\n",
    "    age.append(p)\n",
    "    income.append(q)\n",
    "    status.append(r)\n",
    "    buy.append(s)"
   ]
  },
  {
   "cell_type": "code",
   "execution_count": 23,
   "metadata": {},
   "outputs": [],
   "source": [
    "features = [age, income, status]\n",
    "values = {\"age\": age, \"income\": income, \"status\": status}\n",
    "n = len(age)"
   ]
  },
  {
   "cell_type": "code",
   "execution_count": 24,
   "metadata": {},
   "outputs": [
    {
     "name": "stdout",
     "output_type": "stream",
     "text": [
      "Prior Probability of Y = 1: 0.5\n"
     ]
    }
   ],
   "source": [
    "# Prior probability\n",
    "pr1 = buy.count(\"yes\")/n\n",
    "print(\"Prior Probability of Y = 1:\", pr1)"
   ]
  },
  {
   "cell_type": "code",
   "execution_count": 25,
   "metadata": {},
   "outputs": [],
   "source": [
    "pos_loc = []\n",
    "neg_loc = []\n",
    "for k in range(n):\n",
    "    if buy[k]==\"yes\":\n",
    "        pos_loc.append(k)\n",
    "    else:\n",
    "        neg_loc.append(k)"
   ]
  },
  {
   "cell_type": "code",
   "execution_count": 26,
   "metadata": {},
   "outputs": [],
   "source": [
    "# Likelihood for each of the features\n",
    "prob = {\"yes\":{}, \"no\":{}}\n",
    "\n",
    "for i in values:\n",
    "    unique_vals = set(values[i])\n",
    "    prob[\"yes\"][i] = {}\n",
    "    prob[\"no\"][i] = {}\n",
    "    \n",
    "    for j in unique_vals:\n",
    "        countp = 0\n",
    "        countn = 0\n",
    "        \n",
    "        for k in range(n):\n",
    "            if buy[k]=='yes' and values[i][k]==j:\n",
    "                countp += 1\n",
    "            if buy[k]=='no' and values[i][k]==j:\n",
    "                countn += 1\n",
    "                \n",
    "        prob[\"yes\"][i][j] = countp/len(pos_loc)\n",
    "        prob[\"no\"][i][j] = countn/len(neg_loc)"
   ]
  },
  {
   "cell_type": "code",
   "execution_count": 27,
   "metadata": {},
   "outputs": [
    {
     "name": "stdout",
     "output_type": "stream",
     "text": [
      "P(X_age=>30 | Y=yes) = 0.2857142857142857\n",
      "P(X_age=21-30 | Y=yes) = 0.2857142857142857\n",
      "P(X_age=<=20 | Y=yes) = 0.42857142857142855\n",
      "\n",
      "P(X_income=high | Y=yes) = 0.5714285714285714\n",
      "P(X_income=medium | Y=yes) = 0.14285714285714285\n",
      "P(X_income=low | Y=yes) = 0.2857142857142857\n",
      "\n",
      "P(X_status=students | Y=yes) = 0.42857142857142855\n",
      "P(X_status=married | Y=yes) = 0.5714285714285714\n",
      "\n",
      "P(X_age=>30 | Y=no) = 0.42857142857142855\n",
      "P(X_age=21-30 | Y=no) = 0.2857142857142857\n",
      "P(X_age=<=20 | Y=no) = 0.2857142857142857\n",
      "\n",
      "P(X_income=high | Y=no) = 0.14285714285714285\n",
      "P(X_income=medium | Y=no) = 0.7142857142857143\n",
      "P(X_income=low | Y=no) = 0.14285714285714285\n",
      "\n",
      "P(X_status=students | Y=no) = 0.42857142857142855\n",
      "P(X_status=married | Y=no) = 0.5714285714285714\n",
      "\n"
     ]
    }
   ],
   "source": [
    "# Feature wise Conditional Probabilities\n",
    "for i in prob:\n",
    "    for j in prob[i]:\n",
    "        for k in prob[i][j]:\n",
    "            print(\"P(X_{}={} | Y={}) = {}\".format(j, k, i, prob[i][j][k]))\n",
    "        print()"
   ]
  },
  {
   "cell_type": "code",
   "execution_count": 28,
   "metadata": {},
   "outputs": [],
   "source": [
    "# Total Probability\n",
    "age_values = set(list(age))\n",
    "income_values = set(list(income))\n",
    "status_values = set(list(status))"
   ]
  },
  {
   "cell_type": "code",
   "execution_count": 29,
   "metadata": {},
   "outputs": [
    {
     "name": "stdout",
     "output_type": "stream",
     "text": [
      "For Y=1\n",
      "P(X age = >30; income = high; status = students | Y = 1) = 0.06997084548104955\n",
      "P(X age = >30; income = high; status = married | Y = 1) = 0.0932944606413994\n",
      "P(X age = >30; income = medium; status = students | Y = 1) = 0.017492711370262388\n",
      "P(X age = >30; income = medium; status = married | Y = 1) = 0.02332361516034985\n",
      "P(X age = >30; income = low; status = students | Y = 1) = 0.034985422740524776\n",
      "P(X age = >30; income = low; status = married | Y = 1) = 0.0466472303206997\n",
      "P(X age = 21-30; income = high; status = students | Y = 1) = 0.06997084548104955\n",
      "P(X age = 21-30; income = high; status = married | Y = 1) = 0.0932944606413994\n",
      "P(X age = 21-30; income = medium; status = students | Y = 1) = 0.017492711370262388\n",
      "P(X age = 21-30; income = medium; status = married | Y = 1) = 0.02332361516034985\n",
      "P(X age = 21-30; income = low; status = students | Y = 1) = 0.034985422740524776\n",
      "P(X age = 21-30; income = low; status = married | Y = 1) = 0.0466472303206997\n",
      "P(X age = <=20; income = high; status = students | Y = 1) = 0.10495626822157432\n",
      "P(X age = <=20; income = high; status = married | Y = 1) = 0.1399416909620991\n",
      "P(X age = <=20; income = medium; status = students | Y = 1) = 0.02623906705539358\n",
      "P(X age = <=20; income = medium; status = married | Y = 1) = 0.034985422740524776\n",
      "P(X age = <=20; income = low; status = students | Y = 1) = 0.05247813411078716\n",
      "P(X age = <=20; income = low; status = married | Y = 1) = 0.06997084548104955\n"
     ]
    }
   ],
   "source": [
    "print(\"For Y=1\")\n",
    "for i in age_values:\n",
    "    for j in income_values:\n",
    "        for k in status_values:\n",
    "            result = prob[\"yes\"][\"age\"][i] * prob[\"yes\"][\"income\"][j] * prob[\"yes\"][\"status\"][k]\n",
    "            print(\"P(X age = {}; income = {}; status = {} | Y = 1) = {}\".format(i, j, k, result))"
   ]
  },
  {
   "cell_type": "code",
   "execution_count": 30,
   "metadata": {},
   "outputs": [
    {
     "name": "stdout",
     "output_type": "stream",
     "text": [
      "For Y=0\n",
      "P(X age = >30; income = high; status = students | Y = 0) = 0.02623906705539358\n",
      "P(X age = >30; income = high; status = married | Y = 0) = 0.034985422740524776\n",
      "P(X age = >30; income = medium; status = students | Y = 0) = 0.13119533527696792\n",
      "P(X age = >30; income = medium; status = married | Y = 0) = 0.1749271137026239\n",
      "P(X age = >30; income = low; status = students | Y = 0) = 0.02623906705539358\n",
      "P(X age = >30; income = low; status = married | Y = 0) = 0.034985422740524776\n",
      "P(X age = 21-30; income = high; status = students | Y = 0) = 0.017492711370262388\n",
      "P(X age = 21-30; income = high; status = married | Y = 0) = 0.02332361516034985\n",
      "P(X age = 21-30; income = medium; status = students | Y = 0) = 0.08746355685131195\n",
      "P(X age = 21-30; income = medium; status = married | Y = 0) = 0.11661807580174927\n",
      "P(X age = 21-30; income = low; status = students | Y = 0) = 0.017492711370262388\n",
      "P(X age = 21-30; income = low; status = married | Y = 0) = 0.02332361516034985\n",
      "P(X age = <=20; income = high; status = students | Y = 0) = 0.017492711370262388\n",
      "P(X age = <=20; income = high; status = married | Y = 0) = 0.02332361516034985\n",
      "P(X age = <=20; income = medium; status = students | Y = 0) = 0.08746355685131195\n",
      "P(X age = <=20; income = medium; status = married | Y = 0) = 0.11661807580174927\n",
      "P(X age = <=20; income = low; status = students | Y = 0) = 0.017492711370262388\n",
      "P(X age = <=20; income = low; status = married | Y = 0) = 0.02332361516034985\n"
     ]
    }
   ],
   "source": [
    "print(\"For Y=0\")\n",
    "for i in age_values:\n",
    "    for j in income_values:\n",
    "        for k in status_values:\n",
    "            result = prob[\"no\"][\"age\"][i] * prob[\"no\"][\"income\"][j] * prob[\"no\"][\"status\"][k]\n",
    "            print(\"P(X age = {}; income = {}; status = {} | Y = 0) = {}\".format(i, j, k, result))"
   ]
  },
  {
   "cell_type": "code",
   "execution_count": 31,
   "metadata": {},
   "outputs": [
    {
     "name": "stdout",
     "output_type": "stream",
     "text": [
      "P(Y=1 | xtest = Age=21-30,Income=medium,Status=married) = 0.16666666666666663\n",
      "P(Y=0 | xtest = Age=21-30,Income=medium,Status=married) = 0.8333333333333334\n"
     ]
    }
   ],
   "source": [
    "given_age = \"21-30\"\n",
    "given_income = \"medium\"\n",
    "given_status = \"married\"\n",
    "\n",
    "conditional_yes = prob[\"yes\"][\"age\"][given_age] * prob[\"yes\"][\"income\"][given_income] * prob[\"yes\"][\"status\"][given_status]\n",
    "conditional_no = prob[\"no\"][\"age\"][given_age] * prob[\"no\"][\"income\"][given_income] * prob[\"no\"][\"status\"][given_status]\n",
    "probability = (conditional_yes * pr1)/((conditional_yes * pr1) + (conditional_no * (1 - pr1)))\n",
    "\n",
    "print(\"P(Y=1 | xtest = Age={},Income={},Status={}) = {}\".format(given_age, given_income, given_status, probability))\n",
    "print(\"P(Y=0 | xtest = Age={},Income={},Status={}) = {}\".format(given_age, given_income, given_status, 1-probability))"
   ]
  },
  {
   "cell_type": "markdown",
   "metadata": {},
   "source": [
    "Write results here:\n",
    "\n",
    "The posterior probability for x_test when Y = 1 is 0.16666666666666663, and is 0.8333333333333334 when Y=0\n",
    "Therefore the prediction is \"No\" or 0"
   ]
  }
 ],
 "metadata": {
  "kernelspec": {
   "display_name": "Python 3",
   "language": "python",
   "name": "python3"
  },
  "language_info": {
   "codemirror_mode": {
    "name": "ipython",
    "version": 3
   },
   "file_extension": ".py",
   "mimetype": "text/x-python",
   "name": "python",
   "nbconvert_exporter": "python",
   "pygments_lexer": "ipython3",
   "version": "3.7.3"
  },
  "toc": {
   "nav_menu": {},
   "number_sections": true,
   "sideBar": true,
   "skip_h1_title": false,
   "title_cell": "Table of Contents",
   "title_sidebar": "Contents",
   "toc_cell": false,
   "toc_position": {},
   "toc_section_display": true,
   "toc_window_display": false
  }
 },
 "nbformat": 4,
 "nbformat_minor": 2
}
